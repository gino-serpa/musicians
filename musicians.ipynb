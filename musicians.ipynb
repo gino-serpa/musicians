{
 "cells": [
  {
   "cell_type": "code",
   "execution_count": 14,
   "metadata": {
    "ExecuteTime": {
     "end_time": "2023-06-15T14:05:07.966230Z",
     "start_time": "2023-06-15T14:05:07.953761Z"
    }
   },
   "outputs": [],
   "source": [
    "import numpy as np\n",
    "from tqdm import tqdm"
   ]
  },
  {
   "cell_type": "code",
   "execution_count": 2,
   "metadata": {
    "ExecuteTime": {
     "end_time": "2023-06-15T13:55:48.491080Z",
     "start_time": "2023-06-15T13:55:48.477863Z"
    },
    "code_folding": [
     0
    ]
   },
   "outputs": [],
   "source": [
    "def get_label_to_instrument():\n",
    "    \n",
    "    # Create a scrambling of labels via a dictionary\n",
    "    random_permutation = np.random.permutation(10)\n",
    "    \n",
    "    # Create the dict\n",
    "    label_to_instrument = {i:random_permutation[i] for i in range(10)}\n",
    "    \n",
    "    return label_to_instrument"
   ]
  },
  {
   "cell_type": "markdown",
   "metadata": {},
   "source": [
    "# Define Random Strategy functions"
   ]
  },
  {
   "cell_type": "code",
   "execution_count": 3,
   "metadata": {
    "ExecuteTime": {
     "end_time": "2023-06-15T13:55:50.224778Z",
     "start_time": "2023-06-15T13:55:50.221204Z"
    },
    "code_folding": []
   },
   "outputs": [],
   "source": [
    "def player_status_random_strategy(label_to_instrument, player):\n",
    "\n",
    "    # Player selects 5 random boxes\n",
    "    selected_labels = np.random.choice(range(0,10), 5, replace=False)\n",
    "    \n",
    "    instruments_found = [label_to_instrument[label] for label in selected_labels]\n",
    "    \n",
    "    if player in instruments_found:\n",
    "        return 'alive'\n",
    "    else:\n",
    "        return 'dead'\n",
    "    \n",
    "    return"
   ]
  },
  {
   "cell_type": "code",
   "execution_count": 4,
   "metadata": {
    "ExecuteTime": {
     "end_time": "2023-06-15T13:55:51.414244Z",
     "start_time": "2023-06-15T13:55:51.411148Z"
    },
    "code_folding": []
   },
   "outputs": [],
   "source": [
    "def team_status_random_strategy(label_to_instrument):\n",
    "    \n",
    "    for player in range(0,10):\n",
    "        player_status = player_status_random_strategy(label_to_instrument, player)\n",
    "        if player_status=='dead':\n",
    "            return 'dead'\n",
    "        \n",
    "    return 'alive'"
   ]
  },
  {
   "cell_type": "markdown",
   "metadata": {},
   "source": [
    "# Test Random Strategy"
   ]
  },
  {
   "cell_type": "code",
   "execution_count": 18,
   "metadata": {
    "ExecuteTime": {
     "end_time": "2023-06-15T14:42:12.594495Z",
     "start_time": "2023-06-15T14:30:43.543598Z"
    }
   },
   "outputs": [
    {
     "name": "stderr",
     "output_type": "stream",
     "text": [
      "100%|████████████████████████████| 20000000/20000000 [11:29<00:00, 29026.44it/s]"
     ]
    },
    {
     "name": "stdout",
     "output_type": "stream",
     "text": [
      "monte carlo:  0.0009737 \t exact:  0.0009765625  percentual difference:  -2.862500000000022e-06\n"
     ]
    },
    {
     "name": "stderr",
     "output_type": "stream",
     "text": [
      "\n"
     ]
    },
    {
     "ename": "TypeError",
     "evalue": "unsupported operand type(s) for *: 'NoneType' and 'int'",
     "output_type": "error",
     "traceback": [
      "\u001b[0;31m---------------------------------------------------------------------------\u001b[0m",
      "\u001b[0;31mTypeError\u001b[0m                                 Traceback (most recent call last)",
      "\u001b[0;32m/tmp/ipykernel_5517/3593862748.py\u001b[0m in \u001b[0;36m<module>\u001b[0;34m\u001b[0m\n\u001b[1;32m      6\u001b[0m     \u001b[0;32mif\u001b[0m \u001b[0mteam_status_random_strategy\u001b[0m\u001b[0;34m(\u001b[0m\u001b[0mlabel_to_instrument\u001b[0m\u001b[0;34m)\u001b[0m\u001b[0;34m==\u001b[0m\u001b[0;34m'alive'\u001b[0m\u001b[0;34m:\u001b[0m\u001b[0;34m\u001b[0m\u001b[0;34m\u001b[0m\u001b[0m\n\u001b[1;32m      7\u001b[0m         \u001b[0malive_count\u001b[0m\u001b[0;34m+=\u001b[0m\u001b[0;36m1\u001b[0m\u001b[0;34m\u001b[0m\u001b[0;34m\u001b[0m\u001b[0m\n\u001b[0;32m----> 8\u001b[0;31m \u001b[0mprint\u001b[0m\u001b[0;34m(\u001b[0m\u001b[0;34m'monte carlo: '\u001b[0m\u001b[0;34m,\u001b[0m \u001b[0malive_count\u001b[0m\u001b[0;34m/\u001b[0m\u001b[0mN\u001b[0m\u001b[0;34m,\u001b[0m \u001b[0;34m'\\t exact: '\u001b[0m\u001b[0;34m,\u001b[0m\u001b[0;36m1\u001b[0m\u001b[0;34m/\u001b[0m\u001b[0;36m2\u001b[0m\u001b[0;34m**\u001b[0m\u001b[0;36m10\u001b[0m \u001b[0;34m,\u001b[0m \u001b[0;34m' percentual difference: '\u001b[0m\u001b[0;34m,\u001b[0m \u001b[0;34m(\u001b[0m\u001b[0malive_count\u001b[0m\u001b[0;34m/\u001b[0m\u001b[0mN\u001b[0m\u001b[0;34m)\u001b[0m\u001b[0;34m-\u001b[0m\u001b[0;36m1\u001b[0m\u001b[0;34m/\u001b[0m\u001b[0;36m2\u001b[0m\u001b[0;34m**\u001b[0m\u001b[0;36m10\u001b[0m\u001b[0;34m)\u001b[0m\u001b[0;34m*\u001b[0m\u001b[0;36m100\u001b[0m\u001b[0;34m/\u001b[0m\u001b[0;34m(\u001b[0m\u001b[0;36m1\u001b[0m\u001b[0;34m/\u001b[0m\u001b[0;36m2\u001b[0m\u001b[0;34m**\u001b[0m\u001b[0;36m10\u001b[0m\u001b[0;34m)\u001b[0m\u001b[0;34m\u001b[0m\u001b[0;34m\u001b[0m\u001b[0m\n\u001b[0m",
      "\u001b[0;31mTypeError\u001b[0m: unsupported operand type(s) for *: 'NoneType' and 'int'"
     ]
    }
   ],
   "source": [
    "# Generate a random boxes arrangements\n",
    "N = 20_000_000\n",
    "alive_count = 0\n",
    "for i in tqdm(range(N),miniters=10_000):\n",
    "    label_to_instrument = get_label_to_instrument()\n",
    "    if team_status_random_strategy(label_to_instrument)=='alive':\n",
    "        alive_count+=1\n",
    "print('monte carlo: ', alive_count/N, '\\t exact: ',1/2**10 , ' percentual difference: ', \n",
    "      (alive_count/N)-1/2**10)*100/(1/2**10)"
   ]
  },
  {
   "cell_type": "code",
   "execution_count": 12,
   "metadata": {
    "ExecuteTime": {
     "end_time": "2023-06-15T13:57:58.227929Z",
     "start_time": "2023-06-15T13:57:58.220797Z"
    }
   },
   "outputs": [
    {
     "data": {
      "text/plain": [
       "0.0009765625"
      ]
     },
     "execution_count": 12,
     "metadata": {},
     "output_type": "execute_result"
    }
   ],
   "source": [
    "1/2**10a"
   ]
  },
  {
   "cell_type": "code",
   "execution_count": 6,
   "metadata": {
    "ExecuteTime": {
     "end_time": "2023-06-14T02:25:02.756606Z",
     "start_time": "2023-06-14T02:25:02.749451Z"
    }
   },
   "outputs": [],
   "source": [
    "def team_status_strategy_1(boxes):\n",
    "\n",
    "    for musician in range(0,10):\n",
    "        if player_status_strategy_1(boxes, musician)=='dead':\n",
    "            return 'dead'\n",
    "\n",
    "    return 'alive'\n",
    "\n",
    "def player_status_strategy_1(boxes, musician):\n",
    "    if musician in range(0,5):\n",
    "        if musician in boxes[0:5]:\n",
    "            return 'alive'\n",
    "        else:\n",
    "            return 'dead'\n",
    "\n",
    "    if musician in range(5,10):\n",
    "        if musician in boxes[5:]:\n",
    "            return 'alive'\n",
    "        else:\n",
    "            return 'dead'\n",
    "    return"
   ]
  },
  {
   "cell_type": "code",
   "execution_count": 7,
   "metadata": {
    "ExecuteTime": {
     "end_time": "2023-06-14T02:25:34.810649Z",
     "start_time": "2023-06-14T02:25:02.758599Z"
    }
   },
   "outputs": [
    {
     "name": "stdout",
     "output_type": "stream",
     "text": [
      "15805 0.00395125\n"
     ]
    }
   ],
   "source": [
    "# Generate a random boxes arrangements\n",
    "N = 4_000_000\n",
    "alive_count = 0\n",
    "for i in range(N):\n",
    "    boxes  = np.random.permutation(10)\n",
    "    if team_status_strategy_1(boxes)=='alive':\n",
    "        alive_count+=1\n",
    "print(alive_count, alive_count/N)"
   ]
  }
 ],
 "metadata": {
  "kernelspec": {
   "display_name": "Python 3 (ipykernel)",
   "language": "python",
   "name": "python3"
  },
  "language_info": {
   "codemirror_mode": {
    "name": "ipython",
    "version": 3
   },
   "file_extension": ".py",
   "mimetype": "text/x-python",
   "name": "python",
   "nbconvert_exporter": "python",
   "pygments_lexer": "ipython3",
   "version": "3.9.13"
  }
 },
 "nbformat": 4,
 "nbformat_minor": 1
}
