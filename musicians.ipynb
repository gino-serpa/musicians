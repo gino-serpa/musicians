{
 "cells": [
  {
   "cell_type": "code",
   "execution_count": 6,
   "metadata": {
    "collapsed": true,
    "ExecuteTime": {
     "end_time": "2023-06-11T15:47:16.161497498Z",
     "start_time": "2023-06-11T15:47:16.112507516Z"
    }
   },
   "outputs": [],
   "source": [
    "import itertools\n",
    "import random\n",
    "import numpy as np"
   ]
  },
  {
   "cell_type": "markdown",
   "source": [
    "# Random choices"
   ],
   "metadata": {
    "collapsed": false
   }
  },
  {
   "cell_type": "code",
   "execution_count": 7,
   "outputs": [],
   "source": [
    "def get_hits(boxes, choices):\n",
    "    boxes = np.array(boxes)\n",
    "    choices = np.array(choices)\n",
    "    hits = sum(boxes==choices)\n",
    "    return hits"
   ],
   "metadata": {
    "collapsed": false,
    "ExecuteTime": {
     "end_time": "2023-06-11T15:47:16.161817300Z",
     "start_time": "2023-06-11T15:47:16.155419116Z"
    }
   }
  },
  {
   "cell_type": "code",
   "execution_count": 8,
   "outputs": [],
   "source": [
    "def player_status_random_strategy(boxes, player):\n",
    "    # Select 5 random boxes\n",
    "    selected_boxes = np.random.choice(boxes, 5, replace=False)\n",
    "    status = 'dead'\n",
    "    if player in selected_boxes:\n",
    "        status = 'alive'\n",
    "    return status"
   ],
   "metadata": {
    "collapsed": false,
    "ExecuteTime": {
     "end_time": "2023-06-11T15:47:16.161977904Z",
     "start_time": "2023-06-11T15:47:16.155660238Z"
    }
   }
  },
  {
   "cell_type": "code",
   "execution_count": 9,
   "outputs": [],
   "source": [
    "def team_status_random_strategy(boxes):\n",
    "    for player in range(0,10):\n",
    "        player_status = player_status_random_strategy(boxes, player)\n",
    "        if player_status=='dead':\n",
    "            return 'dead'\n",
    "    return 'alive'"
   ],
   "metadata": {
    "collapsed": false,
    "ExecuteTime": {
     "end_time": "2023-06-11T15:47:16.162119329Z",
     "start_time": "2023-06-11T15:47:16.155841915Z"
    }
   }
  },
  {
   "cell_type": "code",
   "execution_count": 10,
   "outputs": [
    {
     "name": "stdout",
     "output_type": "stream",
     "text": [
      "1034 0.001034\n"
     ]
    }
   ],
   "source": [
    "# Generate a random boxes arrangements\n",
    "N = 1_000_000\n",
    "alive_count = 0\n",
    "for i in range(N):\n",
    "    boxes  = np.random.permutation(10)\n",
    "    if team_status_random_strategy(boxes)=='alive':\n",
    "        alive_count+=1\n",
    "print(alive_count, alive_count/N)"
   ],
   "metadata": {
    "collapsed": false,
    "ExecuteTime": {
     "end_time": "2023-06-11T15:47:47.239487829Z",
     "start_time": "2023-06-11T15:47:16.156010369Z"
    }
   }
  },
  {
   "cell_type": "code",
   "execution_count": 11,
   "outputs": [
    {
     "data": {
      "text/plain": "0.0009765625"
     },
     "execution_count": 11,
     "metadata": {},
     "output_type": "execute_result"
    }
   ],
   "source": [
    "1/2**10"
   ],
   "metadata": {
    "collapsed": false,
    "ExecuteTime": {
     "end_time": "2023-06-11T15:47:47.241328634Z",
     "start_time": "2023-06-11T15:47:47.239777152Z"
    }
   }
  },
  {
   "cell_type": "code",
   "execution_count": 12,
   "outputs": [],
   "source": [
    "def team_status_strategy_1(boxes):\n",
    "\n",
    "    for musician in range(0,10):\n",
    "        if player_status_strategy_1(boxes, musician)=='dead':\n",
    "            return 'dead'\n",
    "\n",
    "    return 'alive'\n",
    "\n",
    "def player_status_strategy_1(boxes, musician):\n",
    "    if musician in range(0,5):\n",
    "        if musician in boxes[0:5]:\n",
    "            return 'alive'\n",
    "        else:\n",
    "            return 'dead'\n",
    "\n",
    "    if musician in range(5,10):\n",
    "        if musician in boxes[5:]:\n",
    "            return 'alive'\n",
    "        else:\n",
    "            return 'dead'\n",
    "    return"
   ],
   "metadata": {
    "collapsed": false,
    "ExecuteTime": {
     "end_time": "2023-06-11T15:47:47.241516580Z",
     "start_time": "2023-06-11T15:47:47.239994079Z"
    }
   }
  },
  {
   "cell_type": "code",
   "execution_count": 13,
   "outputs": [
    {
     "name": "stdout",
     "output_type": "stream",
     "text": [
      "15934 0.0039835\n"
     ]
    }
   ],
   "source": [
    "# Generate a random boxes arrangements\n",
    "N = 4_000_000\n",
    "alive_count = 0\n",
    "for i in range(N):\n",
    "    boxes  = np.random.permutation(10)\n",
    "    if team_status_strategy_1(boxes)=='alive':\n",
    "        alive_count+=1\n",
    "print(alive_count, alive_count/N)"
   ],
   "metadata": {
    "collapsed": false,
    "ExecuteTime": {
     "end_time": "2023-06-11T15:48:20.271487701Z",
     "start_time": "2023-06-11T15:47:47.240130487Z"
    }
   }
  }
 ],
 "metadata": {
  "kernelspec": {
   "display_name": "Python 3",
   "language": "python",
   "name": "python3"
  },
  "language_info": {
   "codemirror_mode": {
    "name": "ipython",
    "version": 2
   },
   "file_extension": ".py",
   "mimetype": "text/x-python",
   "name": "python",
   "nbconvert_exporter": "python",
   "pygments_lexer": "ipython2",
   "version": "2.7.6"
  }
 },
 "nbformat": 4,
 "nbformat_minor": 0
}
