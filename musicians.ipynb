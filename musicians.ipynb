{
 "cells": [
  {
   "cell_type": "code",
   "execution_count": 1,
   "metadata": {
    "ExecuteTime": {
     "end_time": "2023-06-14T02:24:38.557401Z",
     "start_time": "2023-06-14T02:24:38.482328Z"
    }
   },
   "outputs": [],
   "source": [
    "import numpy as np"
   ]
  },
  {
   "cell_type": "markdown",
   "metadata": {},
   "source": [
    "# Random choices"
   ]
  },
  {
   "cell_type": "code",
   "execution_count": 2,
   "metadata": {
    "ExecuteTime": {
     "end_time": "2023-06-14T02:24:38.563282Z",
     "start_time": "2023-06-14T02:24:38.559340Z"
    }
   },
   "outputs": [],
   "source": [
    "def player_status_random_strategy(boxes, player):\n",
    "    # Select 5 random boxes\n",
    "    selected_boxes = np.random.choice(boxes, 5, replace=False)\n",
    "    status = 'dead'\n",
    "    if player in selected_boxes:\n",
    "        status = 'alive'\n",
    "    return status"
   ]
  },
  {
   "cell_type": "code",
   "execution_count": 3,
   "metadata": {
    "ExecuteTime": {
     "end_time": "2023-06-14T02:24:38.568156Z",
     "start_time": "2023-06-14T02:24:38.564655Z"
    }
   },
   "outputs": [],
   "source": [
    "def team_status_random_strategy(boxes):\n",
    "    for player in range(0,10):\n",
    "        player_status = player_status_random_strategy(boxes, player)\n",
    "        if player_status=='dead':\n",
    "            return 'dead'\n",
    "    return 'alive'"
   ]
  },
  {
   "cell_type": "code",
   "execution_count": 4,
   "metadata": {
    "ExecuteTime": {
     "end_time": "2023-06-14T02:25:02.736621Z",
     "start_time": "2023-06-14T02:24:38.570702Z"
    }
   },
   "outputs": [
    {
     "name": "stdout",
     "output_type": "stream",
     "text": [
      "986 0.000986\n"
     ]
    }
   ],
   "source": [
    "# Generate a random boxes arrangements\n",
    "N = 1_000_000\n",
    "alive_count = 0\n",
    "for i in range(N):\n",
    "    boxes  = np.random.permutation(10)\n",
    "    if team_status_random_strategy(boxes)=='alive':\n",
    "        alive_count+=1\n",
    "print(alive_count, alive_count/N)"
   ]
  },
  {
   "cell_type": "code",
   "execution_count": 5,
   "metadata": {
    "ExecuteTime": {
     "end_time": "2023-06-14T02:25:02.747704Z",
     "start_time": "2023-06-14T02:25:02.738311Z"
    }
   },
   "outputs": [
    {
     "data": {
      "text/plain": [
       "0.0009765625"
      ]
     },
     "execution_count": 5,
     "metadata": {},
     "output_type": "execute_result"
    }
   ],
   "source": [
    "1/2**10"
   ]
  },
  {
   "cell_type": "code",
   "execution_count": 6,
   "metadata": {
    "ExecuteTime": {
     "end_time": "2023-06-14T02:25:02.756606Z",
     "start_time": "2023-06-14T02:25:02.749451Z"
    }
   },
   "outputs": [],
   "source": [
    "def team_status_strategy_1(boxes):\n",
    "\n",
    "    for musician in range(0,10):\n",
    "        if player_status_strategy_1(boxes, musician)=='dead':\n",
    "            return 'dead'\n",
    "\n",
    "    return 'alive'\n",
    "\n",
    "def player_status_strategy_1(boxes, musician):\n",
    "    if musician in range(0,5):\n",
    "        if musician in boxes[0:5]:\n",
    "            return 'alive'\n",
    "        else:\n",
    "            return 'dead'\n",
    "\n",
    "    if musician in range(5,10):\n",
    "        if musician in boxes[5:]:\n",
    "            return 'alive'\n",
    "        else:\n",
    "            return 'dead'\n",
    "    return"
   ]
  },
  {
   "cell_type": "code",
   "execution_count": 7,
   "metadata": {
    "ExecuteTime": {
     "end_time": "2023-06-14T02:25:34.810649Z",
     "start_time": "2023-06-14T02:25:02.758599Z"
    }
   },
   "outputs": [
    {
     "name": "stdout",
     "output_type": "stream",
     "text": [
      "15805 0.00395125\n"
     ]
    }
   ],
   "source": [
    "# Generate a random boxes arrangements\n",
    "N = 4_000_000\n",
    "alive_count = 0\n",
    "for i in range(N):\n",
    "    boxes  = np.random.permutation(10)\n",
    "    if team_status_strategy_1(boxes)=='alive':\n",
    "        alive_count+=1\n",
    "print(alive_count, alive_count/N)"
   ]
  }
 ],
 "metadata": {
  "kernelspec": {
   "display_name": "Python 3 (ipykernel)",
   "language": "python",
   "name": "python3"
  },
  "language_info": {
   "codemirror_mode": {
    "name": "ipython",
    "version": 3
   },
   "file_extension": ".py",
   "mimetype": "text/x-python",
   "name": "python",
   "nbconvert_exporter": "python",
   "pygments_lexer": "ipython3",
   "version": "3.9.13"
  }
 },
 "nbformat": 4,
 "nbformat_minor": 1
}
